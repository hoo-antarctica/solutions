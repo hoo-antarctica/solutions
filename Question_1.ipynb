{
 "cells": [
  {
   "cell_type": "code",
   "execution_count": 2,
   "id": "92e5249b",
   "metadata": {},
   "outputs": [
    {
     "data": {
      "text/html": [
       "<style>.container { width:100% !important; }</style>"
      ],
      "text/plain": [
       "<IPython.core.display.HTML object>"
      ]
     },
     "metadata": {},
     "output_type": "display_data"
    }
   ],
   "source": [
    "## Optional, widen the notebook out to full width\n",
    "\n",
    "from IPython.core.display import display, HTML\n",
    "display(HTML(\"<style>.container { width:100% !important; }</style>\"))"
   ]
  },
  {
   "cell_type": "code",
   "execution_count": 3,
   "id": "ba55a5ef",
   "metadata": {},
   "outputs": [],
   "source": [
    "import tkinter as tk\n",
    "import requests\n",
    "import pandas as pd"
   ]
  },
  {
   "cell_type": "code",
   "execution_count": 4,
   "id": "da300521",
   "metadata": {},
   "outputs": [],
   "source": [
    "class GitHub_RepoList_GUI:\n",
    "    \"\"\"\n",
    "    This class produces a GUI, where you can enter a user name and a file location. It then gets the list \n",
    "    of the repositaries of GitHub of the user via an API porvided by GitHub, and saves that list in an Excel \n",
    "    file to the location given. \n",
    "    \"\"\"\n",
    "    def __init__(\n",
    "        self,\n",
    "        debug_init=False,\n",
    "    ):\n",
    "        self.root = tk.Tk()\n",
    "        \n",
    "        ## Set the windows size and title\n",
    "        self.root.geometry(\"300x300\")\n",
    "        self.root.title(\"GitHub\")\n",
    "        \n",
    "        if not debug_init:\n",
    "            self.GUI()\n",
    "\n",
    "    def get_repositary_list_of_a_Github_user(self):\n",
    "        \"\"\"\n",
    "        This function pings the API to get the list of repositories of the user\n",
    "        \"\"\"\n",
    "        github_url = f'https://api.github.com/users/{self.user_name}/repos'\n",
    "        results = requests.get(github_url)\n",
    "        r_json = results.json()\n",
    "        repo_list = [\n",
    "            sub_dict['full_name']\n",
    "            for sub_dict in r_json\n",
    "        ]\n",
    "        return pd.Series(repo_list).rename(self.user_name)\n",
    "    \n",
    "    def GUI(self):\n",
    "        ## Set string variable for storing username and file location\n",
    "        self.user_name_var = tk.StringVar()\n",
    "        self.file_loc_var = tk.StringVar()\n",
    "        \n",
    "        def submit():\n",
    "            try:\n",
    "                self.user_name = self.user_name_var.get()\n",
    "                self.file_loc = self.file_loc_var.get()\n",
    "                repo_df = self.get_repositary_list_of_a_Github_user()\n",
    "                try:\n",
    "                    repo_df.to_excel(f\"{self.file_loc}/{self.user_name}.xlsx\")\n",
    "                except Exception as e:\n",
    "                    print(f\"\"\"\n",
    "                    Error saving the list of repositories for GitHub user {self.user_name}.\n",
    "                    The file location given may be invalid - {self.file_loc}\n",
    "                    Now trying to save the file to the directary where this Notebook is run\n",
    "                    Error: {e}\n",
    "                    \"\"\")\n",
    "                    try:\n",
    "                        repo_df.to_excel(f\"{self.user_name}.xlsx\")\n",
    "                    except Exception as e:\n",
    "                        print(f\"\"\"\n",
    "                        Error saving the list of repositories locally.\n",
    "                        Error: {e}\n",
    "                        \"\"\")\n",
    "            except Exception as e:\n",
    "                print(f\"\"\"\n",
    "                Error getting the list of repositories for GitHub user {self.user_name}.\n",
    "                Error: {e}\n",
    "                \"\"\")\n",
    "            ## Empty the fields for the next query\n",
    "            self.user_name_var.set(\"\")\n",
    "            self.file_loc_var.set(\"\")\n",
    "    \n",
    "        ## Create label for name using widget Label\n",
    "        name_label = tk.Label(\n",
    "            self.root, \n",
    "            text='User name', \n",
    "            font=('calibre', 10, 'bold')\n",
    "        )\n",
    "\n",
    "        ## Create a entry for input name using widget Entry\n",
    "        name_entry = tk.Entry(\n",
    "            self.root,\n",
    "            textvariable=self.user_name_var, \n",
    "            font=('calibre', 10, 'normal')\n",
    "        )\n",
    "\n",
    "        ## Create a label for password\n",
    "        file_label = tk.Label(\n",
    "            self.root, \n",
    "            text='File location', \n",
    "            font=('calibre', 10, 'bold')\n",
    "        )\n",
    "\n",
    "        ## Create a entry for password\n",
    "        file_entry = tk.Entry(\n",
    "            self.root, \n",
    "            textvariable=self.file_loc_var, \n",
    "            font=('calibre', 10, 'normal'), \n",
    "        )\n",
    "\n",
    "        ## Create a button using the widget Button that will call the submit function\n",
    "        sub_btn = tk.Button(\n",
    "            self.root,\n",
    "            text='Submit', \n",
    "            command=submit\n",
    "        )\n",
    "\n",
    "        ## Place the label and entry in the required position using grid method\n",
    "        name_label.grid(row=0, column=0)\n",
    "        name_entry.grid(row=0, column=1)\n",
    "        file_label.grid(row=1, column=0)\n",
    "        file_entry.grid(row=1, column=1)\n",
    "        sub_btn.grid(row=2, column=1)\n",
    "\n",
    "        ## Execute an infinite loop for the window to display\n",
    "        self.root.mainloop()"
   ]
  },
  {
   "cell_type": "code",
   "execution_count": null,
   "id": "72567182",
   "metadata": {},
   "outputs": [],
   "source": [
    "self = GitHub_RepoList_GUI()\n",
    "\n",
    "## username: hoo-antarctica"
   ]
  },
  {
   "cell_type": "code",
   "execution_count": null,
   "id": "2b2db5e0",
   "metadata": {},
   "outputs": [],
   "source": []
  }
 ],
 "metadata": {
  "kernelspec": {
   "display_name": "Python 3 (ipykernel)",
   "language": "python",
   "name": "python3"
  },
  "language_info": {
   "codemirror_mode": {
    "name": "ipython",
    "version": 3
   },
   "file_extension": ".py",
   "mimetype": "text/x-python",
   "name": "python",
   "nbconvert_exporter": "python",
   "pygments_lexer": "ipython3",
   "version": "3.9.13"
  }
 },
 "nbformat": 4,
 "nbformat_minor": 5
}
